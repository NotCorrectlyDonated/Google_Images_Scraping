{
 "cells": [
  {
   "attachments": {},
   "cell_type": "markdown",
   "metadata": {},
   "source": [
    "## WEB SCRAPPING IN GOOGLE IMAGES ##\n",
    "\n",
    "1. Download the chromedriver API from the web browser and link the path from your PC\n",
    "2. Create a function to imitate the scroll down and image selection actions\n",
    "3. Create another function to download the preselected image\n",
    "4. Create new repositories to keep the images downloaded in local"
   ]
  },
  {
   "cell_type": "code",
   "execution_count": 1,
   "metadata": {},
   "outputs": [
    {
     "name": "stderr",
     "output_type": "stream",
     "text": [
      "C:\\Users\\Usuario\\AppData\\Roaming\\Python\\Python37\\site-packages\\ipykernel_launcher.py:15: DeprecationWarning: executable_path has been deprecated, please pass in a Service object\n",
      "  from ipykernel import kernelapp as app\n"
     ]
    },
    {
     "name": "stdout",
     "output_type": "stream",
     "text": [
      "Making directory: Moneda Francia1\n",
      "Making directory: Moneda Altamira1\n",
      "Making directory: Moneda Atenas1\n",
      "Making directory: Moneda Vaticano1\n"
     ]
    },
    {
     "ename": "NoSuchWindowException",
     "evalue": "Message: no such window: target window already closed\nfrom unknown error: web view not found\n  (Session info: chrome=107.0.5304.108)\nStacktrace:\nBacktrace:\n\tOrdinal0 [0x00C3ACD3+2075859]\n\tOrdinal0 [0x00BCEE61+1633889]\n\tOrdinal0 [0x00ACB7BD+571325]\n\tOrdinal0 [0x00AB2E1A+470554]\n\tOrdinal0 [0x00B1AA0B+895499]\n\tOrdinal0 [0x00B2AC96+961686]\n\tOrdinal0 [0x00B17136+880950]\n\tOrdinal0 [0x00AEFEFD+720637]\n\tOrdinal0 [0x00AF0F3F+724799]\n\tGetHandleVerifier [0x00EEEED2+2769538]\n\tGetHandleVerifier [0x00EE0D95+2711877]\n\tGetHandleVerifier [0x00CCA03A+521194]\n\tGetHandleVerifier [0x00CC8DA0+516432]\n\tOrdinal0 [0x00BD682C+1665068]\n\tOrdinal0 [0x00BDB128+1683752]\n\tOrdinal0 [0x00BDB215+1683989]\n\tOrdinal0 [0x00BE6484+1729668]\n\tBaseThreadInitThunk [0x7705FEF9+25]\n\tRtlGetAppContainerNamedObjectPath [0x77577BBE+286]\n\tRtlGetAppContainerNamedObjectPath [0x77577B8E+238]\n",
     "output_type": "error",
     "traceback": [
      "\u001b[1;31m---------------------------------------------------------------------------\u001b[0m",
      "\u001b[1;31mNoSuchWindowException\u001b[0m                     Traceback (most recent call last)",
      "\u001b[1;32m~\\AppData\\Local\\Temp\\ipykernel_11704\\1894268478.py\u001b[0m in \u001b[0;36m<module>\u001b[1;34m\u001b[0m\n\u001b[0;32m    104\u001b[0m \u001b[1;33m\u001b[0m\u001b[0m\n\u001b[0;32m    105\u001b[0m     \u001b[1;32mfor\u001b[0m \u001b[0murl_current\u001b[0m\u001b[1;33m,\u001b[0m \u001b[0mlbl\u001b[0m \u001b[1;32min\u001b[0m \u001b[0mzip\u001b[0m\u001b[1;33m(\u001b[0m\u001b[0mgoogle_urls\u001b[0m\u001b[1;33m,\u001b[0m \u001b[0mnombre_carpeta\u001b[0m\u001b[1;33m)\u001b[0m\u001b[1;33m:\u001b[0m\u001b[1;33m\u001b[0m\u001b[1;33m\u001b[0m\u001b[0m\n\u001b[1;32m--> 106\u001b[1;33m         \u001b[0murls\u001b[0m \u001b[1;33m=\u001b[0m \u001b[0mget_images_from_google\u001b[0m\u001b[1;33m(\u001b[0m\u001b[0mwd\u001b[0m\u001b[1;33m,\u001b[0m \u001b[1;36m0\u001b[0m\u001b[1;33m,\u001b[0m \u001b[1;36m100\u001b[0m\u001b[1;33m,\u001b[0m \u001b[0murl_current\u001b[0m\u001b[1;33m)\u001b[0m\u001b[1;33m\u001b[0m\u001b[1;33m\u001b[0m\u001b[0m\n\u001b[0m\u001b[0;32m    107\u001b[0m \u001b[1;33m\u001b[0m\u001b[0m\n\u001b[0;32m    108\u001b[0m         \u001b[1;32mfor\u001b[0m \u001b[0mi\u001b[0m\u001b[1;33m,\u001b[0m \u001b[0murl\u001b[0m \u001b[1;32min\u001b[0m \u001b[0menumerate\u001b[0m\u001b[1;33m(\u001b[0m\u001b[0murls\u001b[0m\u001b[1;33m)\u001b[0m\u001b[1;33m:\u001b[0m\u001b[1;33m\u001b[0m\u001b[1;33m\u001b[0m\u001b[0m\n",
      "\u001b[1;32m~\\AppData\\Local\\Temp\\ipykernel_11704\\1894268478.py\u001b[0m in \u001b[0;36mget_images_from_google\u001b[1;34m(wd, delay, max_images, url)\u001b[0m\n\u001b[0;32m     49\u001b[0m                                         \u001b[1;32mbreak\u001b[0m\u001b[1;33m\u001b[0m\u001b[1;33m\u001b[0m\u001b[0m\n\u001b[0;32m     50\u001b[0m \u001b[1;33m\u001b[0m\u001b[0m\n\u001b[1;32m---> 51\u001b[1;33m                                 \u001b[1;32mif\u001b[0m \u001b[0mimage\u001b[0m\u001b[1;33m.\u001b[0m\u001b[0mget_attribute\u001b[0m\u001b[1;33m(\u001b[0m\u001b[1;34m'src'\u001b[0m\u001b[1;33m)\u001b[0m \u001b[1;32mand\u001b[0m \u001b[1;34m'http'\u001b[0m \u001b[1;32min\u001b[0m \u001b[0mimage\u001b[0m\u001b[1;33m.\u001b[0m\u001b[0mget_attribute\u001b[0m\u001b[1;33m(\u001b[0m\u001b[1;34m'src'\u001b[0m\u001b[1;33m)\u001b[0m\u001b[1;33m:\u001b[0m\u001b[1;33m\u001b[0m\u001b[1;33m\u001b[0m\u001b[0m\n\u001b[0m\u001b[0;32m     52\u001b[0m                                         \u001b[0mimage_urls\u001b[0m\u001b[1;33m.\u001b[0m\u001b[0madd\u001b[0m\u001b[1;33m(\u001b[0m\u001b[0mimage\u001b[0m\u001b[1;33m.\u001b[0m\u001b[0mget_attribute\u001b[0m\u001b[1;33m(\u001b[0m\u001b[1;34m'src'\u001b[0m\u001b[1;33m)\u001b[0m\u001b[1;33m)\u001b[0m\u001b[1;33m\u001b[0m\u001b[1;33m\u001b[0m\u001b[0m\n\u001b[0;32m     53\u001b[0m \u001b[1;33m\u001b[0m\u001b[0m\n",
      "\u001b[1;32mc:\\Users\\Usuario\\AppData\\Local\\Programs\\Python\\Python37\\lib\\site-packages\\selenium\\webdriver\\remote\\webelement.py\u001b[0m in \u001b[0;36mget_attribute\u001b[1;34m(self, name)\u001b[0m\n\u001b[0;32m    172\u001b[0m         attribute_value = self.parent.execute_script(\n\u001b[0;32m    173\u001b[0m             \u001b[1;34m\"return (%s).apply(null, arguments);\"\u001b[0m \u001b[1;33m%\u001b[0m \u001b[0mgetAttribute_js\u001b[0m\u001b[1;33m,\u001b[0m\u001b[1;33m\u001b[0m\u001b[1;33m\u001b[0m\u001b[0m\n\u001b[1;32m--> 174\u001b[1;33m             self, name)\n\u001b[0m\u001b[0;32m    175\u001b[0m         \u001b[1;32mreturn\u001b[0m \u001b[0mattribute_value\u001b[0m\u001b[1;33m\u001b[0m\u001b[1;33m\u001b[0m\u001b[0m\n\u001b[0;32m    176\u001b[0m \u001b[1;33m\u001b[0m\u001b[0m\n",
      "\u001b[1;32mc:\\Users\\Usuario\\AppData\\Local\\Programs\\Python\\Python37\\lib\\site-packages\\selenium\\webdriver\\remote\\webdriver.py\u001b[0m in \u001b[0;36mexecute_script\u001b[1;34m(self, script, *args)\u001b[0m\n\u001b[0;32m    492\u001b[0m         return self.execute(command, {\n\u001b[0;32m    493\u001b[0m             \u001b[1;34m'script'\u001b[0m\u001b[1;33m:\u001b[0m \u001b[0mscript\u001b[0m\u001b[1;33m,\u001b[0m\u001b[1;33m\u001b[0m\u001b[1;33m\u001b[0m\u001b[0m\n\u001b[1;32m--> 494\u001b[1;33m             'args': converted_args})['value']\n\u001b[0m\u001b[0;32m    495\u001b[0m \u001b[1;33m\u001b[0m\u001b[0m\n\u001b[0;32m    496\u001b[0m     \u001b[1;32mdef\u001b[0m \u001b[0mexecute_async_script\u001b[0m\u001b[1;33m(\u001b[0m\u001b[0mself\u001b[0m\u001b[1;33m,\u001b[0m \u001b[0mscript\u001b[0m\u001b[1;33m:\u001b[0m \u001b[0mstr\u001b[0m\u001b[1;33m,\u001b[0m \u001b[1;33m*\u001b[0m\u001b[0margs\u001b[0m\u001b[1;33m)\u001b[0m\u001b[1;33m:\u001b[0m\u001b[1;33m\u001b[0m\u001b[1;33m\u001b[0m\u001b[0m\n",
      "\u001b[1;32mc:\\Users\\Usuario\\AppData\\Local\\Programs\\Python\\Python37\\lib\\site-packages\\selenium\\webdriver\\remote\\webdriver.py\u001b[0m in \u001b[0;36mexecute\u001b[1;34m(self, driver_command, params)\u001b[0m\n\u001b[0;32m    427\u001b[0m         \u001b[0mresponse\u001b[0m \u001b[1;33m=\u001b[0m \u001b[0mself\u001b[0m\u001b[1;33m.\u001b[0m\u001b[0mcommand_executor\u001b[0m\u001b[1;33m.\u001b[0m\u001b[0mexecute\u001b[0m\u001b[1;33m(\u001b[0m\u001b[0mdriver_command\u001b[0m\u001b[1;33m,\u001b[0m \u001b[0mparams\u001b[0m\u001b[1;33m)\u001b[0m\u001b[1;33m\u001b[0m\u001b[1;33m\u001b[0m\u001b[0m\n\u001b[0;32m    428\u001b[0m         \u001b[1;32mif\u001b[0m \u001b[0mresponse\u001b[0m\u001b[1;33m:\u001b[0m\u001b[1;33m\u001b[0m\u001b[1;33m\u001b[0m\u001b[0m\n\u001b[1;32m--> 429\u001b[1;33m             \u001b[0mself\u001b[0m\u001b[1;33m.\u001b[0m\u001b[0merror_handler\u001b[0m\u001b[1;33m.\u001b[0m\u001b[0mcheck_response\u001b[0m\u001b[1;33m(\u001b[0m\u001b[0mresponse\u001b[0m\u001b[1;33m)\u001b[0m\u001b[1;33m\u001b[0m\u001b[1;33m\u001b[0m\u001b[0m\n\u001b[0m\u001b[0;32m    430\u001b[0m             response['value'] = self._unwrap_value(\n\u001b[0;32m    431\u001b[0m                 response.get('value', None))\n",
      "\u001b[1;32mc:\\Users\\Usuario\\AppData\\Local\\Programs\\Python\\Python37\\lib\\site-packages\\selenium\\webdriver\\remote\\errorhandler.py\u001b[0m in \u001b[0;36mcheck_response\u001b[1;34m(self, response)\u001b[0m\n\u001b[0;32m    241\u001b[0m                 \u001b[0malert_text\u001b[0m \u001b[1;33m=\u001b[0m \u001b[0mvalue\u001b[0m\u001b[1;33m[\u001b[0m\u001b[1;34m'alert'\u001b[0m\u001b[1;33m]\u001b[0m\u001b[1;33m.\u001b[0m\u001b[0mget\u001b[0m\u001b[1;33m(\u001b[0m\u001b[1;34m'text'\u001b[0m\u001b[1;33m)\u001b[0m\u001b[1;33m\u001b[0m\u001b[1;33m\u001b[0m\u001b[0m\n\u001b[0;32m    242\u001b[0m             \u001b[1;32mraise\u001b[0m \u001b[0mexception_class\u001b[0m\u001b[1;33m(\u001b[0m\u001b[0mmessage\u001b[0m\u001b[1;33m,\u001b[0m \u001b[0mscreen\u001b[0m\u001b[1;33m,\u001b[0m \u001b[0mstacktrace\u001b[0m\u001b[1;33m,\u001b[0m \u001b[0malert_text\u001b[0m\u001b[1;33m)\u001b[0m  \u001b[1;31m# type: ignore[call-arg]  # mypy is not smart enough here\u001b[0m\u001b[1;33m\u001b[0m\u001b[1;33m\u001b[0m\u001b[0m\n\u001b[1;32m--> 243\u001b[1;33m         \u001b[1;32mraise\u001b[0m \u001b[0mexception_class\u001b[0m\u001b[1;33m(\u001b[0m\u001b[0mmessage\u001b[0m\u001b[1;33m,\u001b[0m \u001b[0mscreen\u001b[0m\u001b[1;33m,\u001b[0m \u001b[0mstacktrace\u001b[0m\u001b[1;33m)\u001b[0m\u001b[1;33m\u001b[0m\u001b[1;33m\u001b[0m\u001b[0m\n\u001b[0m",
      "\u001b[1;31mNoSuchWindowException\u001b[0m: Message: no such window: target window already closed\nfrom unknown error: web view not found\n  (Session info: chrome=107.0.5304.108)\nStacktrace:\nBacktrace:\n\tOrdinal0 [0x00C3ACD3+2075859]\n\tOrdinal0 [0x00BCEE61+1633889]\n\tOrdinal0 [0x00ACB7BD+571325]\n\tOrdinal0 [0x00AB2E1A+470554]\n\tOrdinal0 [0x00B1AA0B+895499]\n\tOrdinal0 [0x00B2AC96+961686]\n\tOrdinal0 [0x00B17136+880950]\n\tOrdinal0 [0x00AEFEFD+720637]\n\tOrdinal0 [0x00AF0F3F+724799]\n\tGetHandleVerifier [0x00EEEED2+2769538]\n\tGetHandleVerifier [0x00EE0D95+2711877]\n\tGetHandleVerifier [0x00CCA03A+521194]\n\tGetHandleVerifier [0x00CC8DA0+516432]\n\tOrdinal0 [0x00BD682C+1665068]\n\tOrdinal0 [0x00BDB128+1683752]\n\tOrdinal0 [0x00BDB215+1683989]\n\tOrdinal0 [0x00BE6484+1729668]\n\tBaseThreadInitThunk [0x7705FEF9+25]\n\tRtlGetAppContainerNamedObjectPath [0x77577BBE+286]\n\tRtlGetAppContainerNamedObjectPath [0x77577B8E+238]\n"
     ]
    }
   ],
   "source": [
    "from multiprocessing.sharedctypes import Value\n",
    "from selenium import webdriver\n",
    "from selenium.webdriver.common.by import By\n",
    "import requests\n",
    "import io\n",
    "from datetime import datetime as dt\n",
    "from PIL import Image\n",
    "import time\n",
    "import os\n",
    "\n",
    "\n",
    "#1 Download the chromedriver API from the web browser and link the path from your PC\n",
    "\n",
    "PATH = 'C:/Users/Usuario/Desktop/chromedriver.exe'\n",
    "wd = webdriver.Chrome(executable_path=PATH)\n",
    "\n",
    "\n",
    "\n",
    "\n",
    "#2  Create a function to imitate the scroll down and image selection actions\n",
    "\n",
    "\n",
    "def get_images_from_google(wd, delay, max_images, url):\n",
    "\tdef scroll_down(wd):\n",
    "\t\twd.execute_script(\"window.scrollTo(0, document.body.scrollHeight);\")\n",
    "\t\ttime.sleep(delay)\n",
    "\n",
    "\turl = url\n",
    "\twd.get(url)\n",
    "\n",
    "\timage_urls = set()\n",
    "\tskips = 0\n",
    "\twhile len(image_urls) + skips < max_images:\n",
    "\t\tscroll_down(wd)\n",
    "\t\tthumbnails = wd.find_elements(By.CLASS_NAME, \"Q4LuWd\")\n",
    "\n",
    "\t\tfor img in thumbnails[len(image_urls) + skips:max_images]:\n",
    "\t\t\ttry:\n",
    "\t\t\t\timg.click()\n",
    "\t\t\t\ttime.sleep(delay)\n",
    "\t\t\texcept:\n",
    "\t\t\t\tcontinue\n",
    "\n",
    "\t\t\timages = wd.find_elements(By.CLASS_NAME, \"n3VNCb\")\n",
    "\t\t\tfor image in images:\n",
    "\t\t\t\tif image.get_attribute('src') in image_urls:\n",
    "\t\t\t\t\tmax_images += 1\n",
    "\t\t\t\t\tskips += 1 \n",
    "\t\t\t\t\tbreak\n",
    "\n",
    "\t\t\t\tif image.get_attribute('src') and 'http' in image.get_attribute('src'):\n",
    "\t\t\t\t\timage_urls.add(image.get_attribute('src'))\n",
    "\n",
    "\treturn image_urls\n",
    "\n",
    "\n",
    "#3  Create another function to download the preselected image\n",
    "\n",
    "\n",
    "def download_image(down_path, url, file_name, image_type='JPEG',\n",
    "                   verbose=True):\n",
    "    try:\n",
    "        time = dt.now()\n",
    "        curr_time = time.strftime('%H:%M:%S')\n",
    "        img_content = requests.get(url).content\n",
    "        img_file = io.BytesIO(img_content)\n",
    "        image = Image.open(img_file)\n",
    "        file_pth = down_path + file_name\n",
    "\n",
    "        with open(file_pth, 'wb') as file:\n",
    "            image.save(file, image_type)\n",
    "\n",
    "        if verbose == True:\n",
    "            print(f'The image: {file_pth} downloaded successfully at {curr_time}.')\n",
    "    except Exception as e:\n",
    "        print(f'Unable to download image from Google Photos due to\\n: {str(e)}')\n",
    "\n",
    "\n",
    "\n",
    "\n",
    "#4  Create new repositories to keep the images downloaded in local\n",
    "\n",
    "\n",
    "\n",
    "\n",
    "if __name__ == '__main__':\n",
    "    google_urls = [\n",
    "                    \"https://www.google.com/search?q=moneda++2+euros+francia+2000&tbm=isch&ved=2ahUKEwiVzqzw4tP7AhVFrxoKHT_yCtAQ2-cCegQIABAA&oq=moneda++2+euros+francia+2000&gs_lcp=CgNpbWcQAzIHCAAQgAQQGDIHCAAQgAQQGDIHCAAQgAQQGDoFCAAQgARQmQZYmQZg7w5oAHAAeACAAbwBiAGOApIBAzEuMZgBAKABAaoBC2d3cy13aXotaW1nwAEB&sclient=img&ei=LC6GY5WIEcXear_kq4AN&bih=937&biw=1920&rlz=1C1GCEA_enES1012ES1012\",\n",
    "                   \"https://www.google.com/search?q=moneda+altamira+2+euros&rlz=1C1GCEA_enES1012ES1012&sxsrf=ALiCzsZqKL1aprNRcyuV8OLB7e8sycLQwQ:1669883789820&source=lnms&tbm=isch&sa=X&ved=2ahUKEwiC0u7wgdj7AhWI26QKHSHEDgwQ_AUoAXoECAEQAw\",\n",
    "                    \"https://www.google.com/search?q=moneda+2+euros+atenas+2004&tbm=isch&ved=2ahUKEwj-tvTxgdj7AhW4hM4BHZe1AEgQ2-cCegQIABAA&oq=moneda+atenas+2+euros&gs_lcp=CgNpbWcQARgAMgYIABAIEB46BggAEAcQHjoICAAQCBAHEB5Q_RBYpBxgsChoAHAAeACAAZoBiAGpB5IBAzIuNpgBAKABAaoBC2d3cy13aXotaW1nwAEB&sclient=img&ei=kGeIY_4uuIm6vg-X64LABA&rlz=1C1GCEA_enES1012ES1012\",\n",
    "                    \"https://www.google.com/search?q=moneda+2+euros+vaticano+2006&tbm=isch&ved=2ahUKEwjagPmGgtj7AhVEZRoKHT_ABpQQ2-cCegQIABAA&oq=moneda+2+euros+vaticano+2006&gs_lcp=CgNpbWcQAzIHCAAQgAQQGDoECCMQJzoFCAAQgARQkQVY0QlgigtoAHAAeACAAfYBiAHNA5IBBTAuMi4xmAEAoAEBqgELZ3dzLXdpei1pbWfAAQE&sclient=img&ei=vGeIY9qyB8TKab-Am6AJ&rlz=1C1GCEA_enES1012ES1012\"]\n",
    "\n",
    "    nombre_carpeta = [\"Moneda Francia1\", \"Moneda Altamira1\",\"Moneda Atenas1\",\"Moneda Vaticano1\"]\n",
    "    \n",
    "\n",
    "\n",
    "\n",
    "    coin_path = 'images/SELENIUM 2EURO/'\n",
    "   \n",
    "    for lbl in nombre_carpeta:\n",
    "        if not os.path.exists(coin_path + lbl):\n",
    "            print(f'Making directory: {str(lbl)}')\n",
    "            os.makedirs(coin_path+lbl)\n",
    "\n",
    "    for url_current, lbl in zip(google_urls, nombre_carpeta):\n",
    "        urls = get_images_from_google(wd, 0, 100, url_current)\n",
    "    \n",
    "        for i, url in enumerate(urls):\n",
    "            download_image(down_path=f'images/SELENIUM 2EURO/{lbl}/', \n",
    "                        url=url, \n",
    "                        file_name=str(i+1)+ '.jpg',\n",
    "                        verbose=True) \n",
    "    wd.quit()"
   ]
  },
  {
   "cell_type": "markdown",
   "metadata": {},
   "source": []
  }
 ],
 "metadata": {
  "kernelspec": {
   "display_name": "Python 3.7.4 64-bit",
   "language": "python",
   "name": "python3"
  },
  "language_info": {
   "codemirror_mode": {
    "name": "ipython",
    "version": 3
   },
   "file_extension": ".py",
   "mimetype": "text/x-python",
   "name": "python",
   "nbconvert_exporter": "python",
   "pygments_lexer": "ipython3",
   "version": "3.7.4"
  },
  "orig_nbformat": 4,
  "vscode": {
   "interpreter": {
    "hash": "98f313b375bd142157bd85247f9cae0a692e725b9cc4cd8be55ca840b47a019b"
   }
  }
 },
 "nbformat": 4,
 "nbformat_minor": 2
}
